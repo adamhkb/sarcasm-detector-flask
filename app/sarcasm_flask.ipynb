{
  "nbformat": 4,
  "nbformat_minor": 0,
  "metadata": {
    "colab": {
      "name": "sarcasm-flask.ipynb",
      "provenance": []
    },
    "kernelspec": {
      "name": "python3",
      "display_name": "Python 3"
    },
    "language_info": {
      "name": "python"
    },
    "accelerator": "GPU"
  },
  "cells": [
    {
      "cell_type": "code",
      "metadata": {
        "colab": {
          "base_uri": "https://localhost:8080/",
          "height": 204
        },
        "id": "yc9tPNwut51t",
        "outputId": "63936186-267d-4504-d59c-89699b297371"
      },
      "source": [
        "import pandas as pd\n",
        "# Reading json files\n",
        "df = pd.read_json(\"/content/drive/MyDrive/Projects/sarcasm_detector/Sarcasm_Headlines_Dataset.json\", lines=True)\n",
        "dfv2 = pd.read_json(\"/content/drive/MyDrive/Projects/sarcasm_detector/Sarcasm_Headlines_Dataset_v2.json\", lines=True)\n",
        "# Combining both datasets\n",
        "train_df=pd.concat([df,dfv2])\n",
        "train_df.head()"
      ],
      "execution_count": 1,
      "outputs": [
        {
          "output_type": "execute_result",
          "data": {
            "text/html": [
              "<div>\n",
              "<style scoped>\n",
              "    .dataframe tbody tr th:only-of-type {\n",
              "        vertical-align: middle;\n",
              "    }\n",
              "\n",
              "    .dataframe tbody tr th {\n",
              "        vertical-align: top;\n",
              "    }\n",
              "\n",
              "    .dataframe thead th {\n",
              "        text-align: right;\n",
              "    }\n",
              "</style>\n",
              "<table border=\"1\" class=\"dataframe\">\n",
              "  <thead>\n",
              "    <tr style=\"text-align: right;\">\n",
              "      <th></th>\n",
              "      <th>article_link</th>\n",
              "      <th>headline</th>\n",
              "      <th>is_sarcastic</th>\n",
              "    </tr>\n",
              "  </thead>\n",
              "  <tbody>\n",
              "    <tr>\n",
              "      <th>0</th>\n",
              "      <td>https://www.huffingtonpost.com/entry/versace-b...</td>\n",
              "      <td>former versace store clerk sues over secret 'b...</td>\n",
              "      <td>0</td>\n",
              "    </tr>\n",
              "    <tr>\n",
              "      <th>1</th>\n",
              "      <td>https://www.huffingtonpost.com/entry/roseanne-...</td>\n",
              "      <td>the 'roseanne' revival catches up to our thorn...</td>\n",
              "      <td>0</td>\n",
              "    </tr>\n",
              "    <tr>\n",
              "      <th>2</th>\n",
              "      <td>https://local.theonion.com/mom-starting-to-fea...</td>\n",
              "      <td>mom starting to fear son's web series closest ...</td>\n",
              "      <td>1</td>\n",
              "    </tr>\n",
              "    <tr>\n",
              "      <th>3</th>\n",
              "      <td>https://politics.theonion.com/boehner-just-wan...</td>\n",
              "      <td>boehner just wants wife to listen, not come up...</td>\n",
              "      <td>1</td>\n",
              "    </tr>\n",
              "    <tr>\n",
              "      <th>4</th>\n",
              "      <td>https://www.huffingtonpost.com/entry/jk-rowlin...</td>\n",
              "      <td>j.k. rowling wishes snape happy birthday in th...</td>\n",
              "      <td>0</td>\n",
              "    </tr>\n",
              "  </tbody>\n",
              "</table>\n",
              "</div>"
            ],
            "text/plain": [
              "                                        article_link  ... is_sarcastic\n",
              "0  https://www.huffingtonpost.com/entry/versace-b...  ...            0\n",
              "1  https://www.huffingtonpost.com/entry/roseanne-...  ...            0\n",
              "2  https://local.theonion.com/mom-starting-to-fea...  ...            1\n",
              "3  https://politics.theonion.com/boehner-just-wan...  ...            1\n",
              "4  https://www.huffingtonpost.com/entry/jk-rowlin...  ...            0\n",
              "\n",
              "[5 rows x 3 columns]"
            ]
          },
          "metadata": {},
          "execution_count": 1
        }
      ]
    },
    {
      "cell_type": "code",
      "metadata": {
        "colab": {
          "base_uri": "https://localhost:8080/",
          "height": 204
        },
        "id": "_7NbRDl1t6kA",
        "outputId": "51cf0b9b-a05b-41e7-dc1b-f28bd13f4d9a"
      },
      "source": [
        "# Shuffle training dataframe\n",
        "train_df_shuffled = train_df.sample(frac=1, random_state=42)\n",
        "train_df_shuffled['headline'].astype(str)\n",
        "train_df_shuffled.head()"
      ],
      "execution_count": 2,
      "outputs": [
        {
          "output_type": "execute_result",
          "data": {
            "text/html": [
              "<div>\n",
              "<style scoped>\n",
              "    .dataframe tbody tr th:only-of-type {\n",
              "        vertical-align: middle;\n",
              "    }\n",
              "\n",
              "    .dataframe tbody tr th {\n",
              "        vertical-align: top;\n",
              "    }\n",
              "\n",
              "    .dataframe thead th {\n",
              "        text-align: right;\n",
              "    }\n",
              "</style>\n",
              "<table border=\"1\" class=\"dataframe\">\n",
              "  <thead>\n",
              "    <tr style=\"text-align: right;\">\n",
              "      <th></th>\n",
              "      <th>article_link</th>\n",
              "      <th>headline</th>\n",
              "      <th>is_sarcastic</th>\n",
              "    </tr>\n",
              "  </thead>\n",
              "  <tbody>\n",
              "    <tr>\n",
              "      <th>25962</th>\n",
              "      <td>https://www.huffingtonpost.com/entry/stephen-c...</td>\n",
              "      <td>stephen colbert reveals the back-up slogans fo...</td>\n",
              "      <td>0</td>\n",
              "    </tr>\n",
              "    <tr>\n",
              "      <th>273</th>\n",
              "      <td>https://politics.theonion.com/hooded-members-o...</td>\n",
              "      <td>hooded members of congress drown another love ...</td>\n",
              "      <td>1</td>\n",
              "    </tr>\n",
              "    <tr>\n",
              "      <th>6087</th>\n",
              "      <td>https://local.theonion.com/man-knows-he-must-r...</td>\n",
              "      <td>man knows he must ride unexpected urge to clea...</td>\n",
              "      <td>1</td>\n",
              "    </tr>\n",
              "    <tr>\n",
              "      <th>24057</th>\n",
              "      <td>https://www.theonion.com/area-family-awakes-to...</td>\n",
              "      <td>area family awakes to find michelle obama tend...</td>\n",
              "      <td>1</td>\n",
              "    </tr>\n",
              "    <tr>\n",
              "      <th>26448</th>\n",
              "      <td>https://www.huffingtonpost.com/entry/james-cor...</td>\n",
              "      <td>james corden and harry styles kiss for holiday...</td>\n",
              "      <td>0</td>\n",
              "    </tr>\n",
              "  </tbody>\n",
              "</table>\n",
              "</div>"
            ],
            "text/plain": [
              "                                            article_link  ... is_sarcastic\n",
              "25962  https://www.huffingtonpost.com/entry/stephen-c...  ...            0\n",
              "273    https://politics.theonion.com/hooded-members-o...  ...            1\n",
              "6087   https://local.theonion.com/man-knows-he-must-r...  ...            1\n",
              "24057  https://www.theonion.com/area-family-awakes-to...  ...            1\n",
              "26448  https://www.huffingtonpost.com/entry/james-cor...  ...            0\n",
              "\n",
              "[5 rows x 3 columns]"
            ]
          },
          "metadata": {},
          "execution_count": 2
        }
      ]
    },
    {
      "cell_type": "code",
      "metadata": {
        "id": "anLJgABquUZs"
      },
      "source": [
        "from sklearn.model_selection import train_test_split\n",
        "\n",
        "X = train_df_shuffled.headline.values\n",
        "y = train_df_shuffled.is_sarcastic.values\n",
        "\n",
        "training_sentences, testing_sentences, training_labels, testing_labels = train_test_split(X, y, test_size=0.2)"
      ],
      "execution_count": 3,
      "outputs": []
    },
    {
      "cell_type": "code",
      "metadata": {
        "id": "XRK1_v1zuW49"
      },
      "source": [
        "import tensorflow as tf\n",
        "from tensorflow.keras.preprocessing.text import Tokenizer\n",
        "from tensorflow.keras.preprocessing.sequence import pad_sequences\n",
        "import pickle\n",
        "\n",
        "vocab_size = 10000\n",
        "embedding_dim = 16\n",
        "max_length = 100\n",
        "trunc_type='post'\n",
        "padding_type='post'\n",
        "oov_tok = \"<OOV>\"\n",
        "\n",
        "tokenizer = Tokenizer(num_words=vocab_size, oov_token=oov_tok)\n",
        "tokenizer.fit_on_texts(training_sentences)\n",
        "\n",
        "filename = 'tokenizer.pickle'\n",
        "pickle.dump(tokenizer, open(filename, 'wb'), protocol=pickle.HIGHEST_PROTOCOL)\n",
        "\n",
        "word_index = tokenizer.word_index\n",
        "\n",
        "training_sequences = tokenizer.texts_to_sequences(training_sentences)\n",
        "training_padded = pad_sequences(training_sequences, maxlen=max_length, padding=padding_type, truncating=trunc_type)\n",
        "\n",
        "testing_sequences = tokenizer.texts_to_sequences(testing_sentences)\n",
        "testing_padded = pad_sequences(testing_sequences, maxlen=max_length, padding=padding_type, truncating=trunc_type)"
      ],
      "execution_count": 4,
      "outputs": []
    },
    {
      "cell_type": "code",
      "metadata": {
        "id": "FpBqduMQvbzG"
      },
      "source": [
        "# Need this block to get it to work with TensorFlow 2.x\n",
        "import numpy as np\n",
        "training_padded = np.array(training_padded)\n",
        "training_labels = np.array(training_labels)\n",
        "testing_padded = np.array(testing_padded)\n",
        "testing_labels = np.array(testing_labels)"
      ],
      "execution_count": 5,
      "outputs": []
    },
    {
      "cell_type": "code",
      "metadata": {
        "id": "A9SnIS8M02fv"
      },
      "source": [
        "model = tf.keras.Sequential([\n",
        "    tf.keras.layers.Embedding(vocab_size, embedding_dim, input_length=max_length),\n",
        "    tf.keras.layers.GlobalAveragePooling1D(),\n",
        "    tf.keras.layers.Dense(32, activation='relu'),\n",
        "    tf.keras.layers.Dense(1, activation='sigmoid')\n",
        "])\n",
        "model.compile(loss='binary_crossentropy',optimizer='adam',metrics=['accuracy'])"
      ],
      "execution_count": 6,
      "outputs": []
    },
    {
      "cell_type": "code",
      "metadata": {
        "colab": {
          "base_uri": "https://localhost:8080/"
        },
        "id": "-edBnNpP04G2",
        "outputId": "1efc43ef-9cd2-4ac5-90d7-facd27750db9"
      },
      "source": [
        "model.summary()"
      ],
      "execution_count": 7,
      "outputs": [
        {
          "output_type": "stream",
          "name": "stdout",
          "text": [
            "Model: \"sequential\"\n",
            "_________________________________________________________________\n",
            "Layer (type)                 Output Shape              Param #   \n",
            "=================================================================\n",
            "embedding (Embedding)        (None, 100, 16)           160000    \n",
            "_________________________________________________________________\n",
            "global_average_pooling1d (Gl (None, 16)                0         \n",
            "_________________________________________________________________\n",
            "dense (Dense)                (None, 32)                544       \n",
            "_________________________________________________________________\n",
            "dense_1 (Dense)              (None, 1)                 33        \n",
            "=================================================================\n",
            "Total params: 160,577\n",
            "Trainable params: 160,577\n",
            "Non-trainable params: 0\n",
            "_________________________________________________________________\n"
          ]
        }
      ]
    },
    {
      "cell_type": "code",
      "metadata": {
        "colab": {
          "base_uri": "https://localhost:8080/"
        },
        "id": "RANr2Yj005po",
        "outputId": "652290ed-000c-47f8-f366-febc3c324767"
      },
      "source": [
        "num_epochs = 30\n",
        "history = model.fit(training_padded, training_labels, \n",
        "                    epochs=num_epochs, \n",
        "                    validation_data=(testing_padded, testing_labels))"
      ],
      "execution_count": 8,
      "outputs": [
        {
          "output_type": "stream",
          "name": "stdout",
          "text": [
            "Epoch 1/30\n",
            "1384/1384 [==============================] - 11s 6ms/step - loss: 0.5310 - accuracy: 0.7180 - val_loss: 0.3482 - val_accuracy: 0.8546\n",
            "Epoch 2/30\n",
            "1384/1384 [==============================] - 8s 6ms/step - loss: 0.2843 - accuracy: 0.8872 - val_loss: 0.2913 - val_accuracy: 0.8777\n",
            "Epoch 3/30\n",
            "1384/1384 [==============================] - 8s 6ms/step - loss: 0.2215 - accuracy: 0.9146 - val_loss: 0.2615 - val_accuracy: 0.8946\n",
            "Epoch 4/30\n",
            "1384/1384 [==============================] - 8s 6ms/step - loss: 0.1855 - accuracy: 0.9298 - val_loss: 0.2508 - val_accuracy: 0.9010\n",
            "Epoch 5/30\n",
            "1384/1384 [==============================] - 8s 6ms/step - loss: 0.1595 - accuracy: 0.9409 - val_loss: 0.2454 - val_accuracy: 0.9070\n",
            "Epoch 6/30\n",
            "1384/1384 [==============================] - 12s 8ms/step - loss: 0.1425 - accuracy: 0.9477 - val_loss: 0.2412 - val_accuracy: 0.9093\n",
            "Epoch 7/30\n",
            "1384/1384 [==============================] - 10s 7ms/step - loss: 0.1287 - accuracy: 0.9540 - val_loss: 0.2445 - val_accuracy: 0.9152\n",
            "Epoch 8/30\n",
            "1384/1384 [==============================] - 7s 5ms/step - loss: 0.1163 - accuracy: 0.9595 - val_loss: 0.2406 - val_accuracy: 0.9175\n",
            "Epoch 9/30\n",
            "1384/1384 [==============================] - 7s 5ms/step - loss: 0.1075 - accuracy: 0.9640 - val_loss: 0.2474 - val_accuracy: 0.9193\n",
            "Epoch 10/30\n",
            "1384/1384 [==============================] - 7s 5ms/step - loss: 0.0994 - accuracy: 0.9659 - val_loss: 0.2696 - val_accuracy: 0.9178\n",
            "Epoch 11/30\n",
            "1384/1384 [==============================] - 7s 5ms/step - loss: 0.0932 - accuracy: 0.9685 - val_loss: 0.2581 - val_accuracy: 0.9234\n",
            "Epoch 12/30\n",
            "1384/1384 [==============================] - 7s 5ms/step - loss: 0.0865 - accuracy: 0.9713 - val_loss: 0.2513 - val_accuracy: 0.9294\n",
            "Epoch 13/30\n",
            "1384/1384 [==============================] - 7s 5ms/step - loss: 0.0815 - accuracy: 0.9731 - val_loss: 0.2775 - val_accuracy: 0.9240\n",
            "Epoch 14/30\n",
            "1384/1384 [==============================] - 7s 5ms/step - loss: 0.0776 - accuracy: 0.9740 - val_loss: 0.2634 - val_accuracy: 0.9317\n",
            "Epoch 15/30\n",
            "1384/1384 [==============================] - 7s 5ms/step - loss: 0.0726 - accuracy: 0.9764 - val_loss: 0.2661 - val_accuracy: 0.9330\n",
            "Epoch 16/30\n",
            "1384/1384 [==============================] - 8s 6ms/step - loss: 0.0703 - accuracy: 0.9770 - val_loss: 0.2672 - val_accuracy: 0.9323\n",
            "Epoch 17/30\n",
            "1384/1384 [==============================] - 7s 5ms/step - loss: 0.0659 - accuracy: 0.9793 - val_loss: 0.2960 - val_accuracy: 0.9299\n",
            "Epoch 18/30\n",
            "1384/1384 [==============================] - 7s 5ms/step - loss: 0.0624 - accuracy: 0.9800 - val_loss: 0.2794 - val_accuracy: 0.9347\n",
            "Epoch 19/30\n",
            "1384/1384 [==============================] - 7s 5ms/step - loss: 0.0591 - accuracy: 0.9819 - val_loss: 0.3359 - val_accuracy: 0.9248\n",
            "Epoch 20/30\n",
            "1384/1384 [==============================] - 7s 5ms/step - loss: 0.0571 - accuracy: 0.9818 - val_loss: 0.2931 - val_accuracy: 0.9371\n",
            "Epoch 21/30\n",
            "1384/1384 [==============================] - 7s 5ms/step - loss: 0.0534 - accuracy: 0.9835 - val_loss: 0.3034 - val_accuracy: 0.9395\n",
            "Epoch 22/30\n",
            "1384/1384 [==============================] - 7s 5ms/step - loss: 0.0513 - accuracy: 0.9842 - val_loss: 0.3276 - val_accuracy: 0.9377\n",
            "Epoch 23/30\n",
            "1384/1384 [==============================] - 7s 5ms/step - loss: 0.0482 - accuracy: 0.9859 - val_loss: 0.3155 - val_accuracy: 0.9364\n",
            "Epoch 24/30\n",
            "1384/1384 [==============================] - 7s 5ms/step - loss: 0.0482 - accuracy: 0.9849 - val_loss: 0.3351 - val_accuracy: 0.9406\n",
            "Epoch 25/30\n",
            "1384/1384 [==============================] - 7s 5ms/step - loss: 0.0444 - accuracy: 0.9866 - val_loss: 0.3501 - val_accuracy: 0.9393\n",
            "Epoch 26/30\n",
            "1384/1384 [==============================] - 7s 5ms/step - loss: 0.0438 - accuracy: 0.9862 - val_loss: 0.3559 - val_accuracy: 0.9403\n",
            "Epoch 27/30\n",
            "1384/1384 [==============================] - 8s 5ms/step - loss: 0.0413 - accuracy: 0.9871 - val_loss: 0.3753 - val_accuracy: 0.9215\n",
            "Epoch 28/30\n",
            "1384/1384 [==============================] - 8s 5ms/step - loss: 0.0395 - accuracy: 0.9881 - val_loss: 0.3651 - val_accuracy: 0.9320\n",
            "Epoch 29/30\n",
            "1384/1384 [==============================] - 8s 5ms/step - loss: 0.0384 - accuracy: 0.9886 - val_loss: 0.3800 - val_accuracy: 0.9424\n",
            "Epoch 30/30\n",
            "1384/1384 [==============================] - 7s 5ms/step - loss: 0.0357 - accuracy: 0.9900 - val_loss: 0.3836 - val_accuracy: 0.9442\n"
          ]
        }
      ]
    },
    {
      "cell_type": "code",
      "metadata": {
        "id": "Zaaf6SvnCjd_"
      },
      "source": [
        "from tensorflow.keras.models import save_model\n",
        "save_model(model,'model.h5')\n"
      ],
      "execution_count": 9,
      "outputs": []
    },
    {
      "cell_type": "code",
      "metadata": {
        "id": "4O0t7jgFEzai"
      },
      "source": [
        "import tensorflow as tf\n",
        "from tensorflow import keras\n",
        "\n",
        "model = keras.models.load_model('model.h5')\n"
      ],
      "execution_count": 10,
      "outputs": []
    },
    {
      "cell_type": "code",
      "metadata": {
        "id": "nED93QUKOMTL"
      },
      "source": [
        "sentence = 'Earthquake damage is caused by shaking'"
      ],
      "execution_count": 11,
      "outputs": []
    },
    {
      "cell_type": "code",
      "metadata": {
        "id": "09yR_dBNNwLK"
      },
      "source": [
        "from tensorflow.keras.preprocessing.sequence import pad_sequences\n",
        "from tensorflow.keras.preprocessing.text import Tokenizer\n",
        "import pickle\n",
        "\n",
        "tk = Tokenizer()\n",
        "with open('/content/drive/MyDrive/Projects/sarcasm_detector/tokenizer.pickle', 'rb') as handle:\n",
        "    tk = pickle.load(handle)"
      ],
      "execution_count": 12,
      "outputs": []
    },
    {
      "cell_type": "code",
      "metadata": {
        "id": "zxGyiqrpOYR1"
      },
      "source": [
        "X = tk.texts_to_sequences([sentence])\n",
        "X = pad_sequences(X, maxlen=100, padding='post', value=0)\n",
        "pred = model.predict(X)"
      ],
      "execution_count": 13,
      "outputs": []
    },
    {
      "cell_type": "code",
      "metadata": {
        "colab": {
          "base_uri": "https://localhost:8080/"
        },
        "id": "z2vdX6PsO5OC",
        "outputId": "19505bd4-3d88-4093-c350-f23fa0395c96"
      },
      "source": [
        "pred[0]"
      ],
      "execution_count": 14,
      "outputs": [
        {
          "output_type": "execute_result",
          "data": {
            "text/plain": [
              "array([0.9998349], dtype=float32)"
            ]
          },
          "metadata": {},
          "execution_count": 14
        }
      ]
    },
    {
      "cell_type": "code",
      "metadata": {
        "id": "A7LtAkvRO7YP"
      },
      "source": [
        ""
      ],
      "execution_count": 14,
      "outputs": []
    }
  ]
}